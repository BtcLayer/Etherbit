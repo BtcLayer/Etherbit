{
 "cells": [
  {
   "cell_type": "code",
   "execution_count": 5,
   "metadata": {},
   "outputs": [],
   "source": [
    "import pymysql\n"
   ]
  },
  {
   "cell_type": "code",
   "execution_count": 6,
   "metadata": {},
   "outputs": [],
   "source": [
    "timeout = 10\n",
    "connection = pymysql.connect(\n",
    "  charset=\"utf8mb4\",\n",
    "  connect_timeout=timeout,\n",
    "  cursorclass=pymysql.cursors.DictCursor,\n",
    "  db=\"defaultdb\",\n",
    "  host=\"position-tracker-shivamnayyar-288d.aivencloud.com\",\n",
    "  password=\"AVNS_wlIvjyOqcf91Qig1-TX\",\n",
    "  read_timeout=timeout,\n",
    "  port=10770,\n",
    "  user=\"avnadmin\",\n",
    "  write_timeout=timeout,\n",
    ")\n",
    "  \n",
    "cursor = connection.cursor()"
   ]
  },
  {
   "cell_type": "code",
   "execution_count": 7,
   "metadata": {},
   "outputs": [],
   "source": [
    "create_table_sql = \"\"\"\n",
    "CREATE TABLE gmx (\n",
    "    id VARCHAR(255) PRIMARY KEY,\n",
    "    entire_position DECIMAL(20,8), \n",
    "    base_position_taken DECIMAL(20,8), \n",
    "    base_position_not_taken DECIMAL(20,8), \n",
    "    collateral_usd DECIMAL(20,2), \n",
    "    average_open_price DECIMAL(20,8),\n",
    "    coin VARCHAR(50),\n",
    "    side ENUM('LONG', 'SHORT'),\n",
    "    liquidation_price DECIMAL(20,8)\n",
    ")\n",
    "\"\"\"\n",
    "\n",
    "cursor.execute(create_table_sql)\n",
    "connection.commit()"
   ]
  },
  {
   "cell_type": "code",
   "execution_count": 8,
   "metadata": {},
   "outputs": [],
   "source": [
    "create_table_sql = \"\"\"\n",
    "CREATE TABLE binance (\n",
    "    id VARCHAR(255) PRIMARY KEY,\n",
    "    entire_position_base DECIMAL(20,8), \n",
    "    base_position_account DECIMAL(20,8), \n",
    "    base_position_not_taken DECIMAL(20,8), \n",
    "    collateral_usd DECIMAL(20,2), \n",
    "    average_open_price DECIMAL(20,8),\n",
    "    coin VARCHAR(50),\n",
    "    side ENUM('long', 'short'),\n",
    "    stop_loss DECIMAL(20,8)\n",
    ")\n",
    "\"\"\"\n",
    "\n",
    "cursor.execute(create_table_sql)\n",
    "connection.commit()"
   ]
  },
  {
   "cell_type": "code",
   "execution_count": 9,
   "metadata": {},
   "outputs": [
    {
     "data": {
      "text/plain": [
       "0"
      ]
     },
     "execution_count": 9,
     "metadata": {},
     "output_type": "execute_result"
    }
   ],
   "source": [
    "drop_table_sql = \"DROP TABLE IF EXISTS binance\"\n",
    "cursor.execute(drop_table_sql)"
   ]
  },
  {
   "cell_type": "code",
   "execution_count": 10,
   "metadata": {},
   "outputs": [],
   "source": [
    "# drop_table_sql = \"DROP TABLE IF EXISTS gmx\"\n",
    "# cursor.execute(drop_table_sql)"
   ]
  },
  {
   "cell_type": "code",
   "execution_count": 11,
   "metadata": {},
   "outputs": [],
   "source": [
    "# Commit the transaction\n",
    "connection.commit()\n",
    "connection.close()"
   ]
  }
 ],
 "metadata": {
  "kernelspec": {
   "display_name": "base",
   "language": "python",
   "name": "python3"
  },
  "language_info": {
   "codemirror_mode": {
    "name": "ipython",
    "version": 3
   },
   "file_extension": ".py",
   "mimetype": "text/x-python",
   "name": "python",
   "nbconvert_exporter": "python",
   "pygments_lexer": "ipython3",
   "version": "3.11.2"
  },
  "orig_nbformat": 4
 },
 "nbformat": 4,
 "nbformat_minor": 2
}
