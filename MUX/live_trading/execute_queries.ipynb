{
 "cells": [
  {
   "cell_type": "code",
   "execution_count": 6,
   "metadata": {},
   "outputs": [],
   "source": [
    "import pymysql\n",
    "\n",
    "timeout = 10\n",
    "connection = pymysql.connect(\n",
    "  charset=\"utf8mb4\",\n",
    "  connect_timeout=timeout,\n",
    "  cursorclass=pymysql.cursors.DictCursor,\n",
    "  db=\"defaultdb\",\n",
    "  host=\"position-tracker-shivamnayyar-288d.aivencloud.com\",\n",
    "  password=\"AVNS_wlIvjyOqcf91Qig1-TX\",\n",
    "  read_timeout=timeout,\n",
    "  port=10770,\n",
    "  user=\"avnadmin\",\n",
    "  write_timeout=timeout,\n",
    ")\n",
    "  \n",
    "cursor = connection.cursor()"
   ]
  },
  {
   "cell_type": "code",
   "execution_count": 7,
   "metadata": {},
   "outputs": [],
   "source": [
    "def insert_into(entire_position, base_position_taken, average_open_price, collateral_usd, coin, side, liquidation_price):\n",
    "    # SQL query to insert data into the table\n",
    "    query = f\"INSERT INTO gmx(entire_position, base_position_taken,  collateral_usd, average_open_price, coin, side, liquidation_price) VALUES ({entire_position}, {base_position_taken}, {collateral_usd}, {average_open_price}, '{coin}', '{side}', {liquidation_price})\"\n",
    "    \n",
    "    # Execute the query\n",
    "    cursor.execute(query)"
   ]
  },
  {
   "cell_type": "code",
   "execution_count": 8,
   "metadata": {},
   "outputs": [],
   "source": [
    "entire_position = 123.45\n",
    "base_position_taken = 10.11\n",
    "collateral_usd = 12.13\n",
    "average_open_price = 14.15\n",
    "coin = \"BTC\"\n",
    "side = \"LONG\"\n",
    "liquidation_price = 16.17\n",
    "\n",
    "# Call the function with the defined values\n",
    "insert_into(entire_position, base_position_taken, collateral_usd, average_open_price, coin, side, liquidation_price)   "
   ]
  },
  {
   "cell_type": "code",
   "execution_count": 9,
   "metadata": {},
   "outputs": [],
   "source": [
    "# Commit the transaction\n",
    "connection.commit()\n",
    "connection.close()"
   ]
  }
 ],
 "metadata": {
  "kernelspec": {
   "display_name": "base",
   "language": "python",
   "name": "python3"
  },
  "language_info": {
   "codemirror_mode": {
    "name": "ipython",
    "version": 3
   },
   "file_extension": ".py",
   "mimetype": "text/x-python",
   "name": "python",
   "nbconvert_exporter": "python",
   "pygments_lexer": "ipython3",
   "version": "3.9.12"
  },
  "orig_nbformat": 4
 },
 "nbformat": 4,
 "nbformat_minor": 2
}
